{
 "cells": [
  {
   "attachments": {
    "99d9044e-2078-465f-8456-243bf16bc135.png": {
     "image/png": "[encoded data removed]"
    }
   },
   "cell_type": "markdown",
   "id": "eb270c44-bbfe-4bc6-9904-47925ce00aa7",
   "metadata": {},
   "source": [
    "![download.png](attachment:99d9044e-2078-465f-8456-243bf16bc135.png)"
   ]
  },
  {
   "cell_type": "markdown",
   "id": "b8a5ff15-f693-448b-b264-ba3b1f84be3e",
   "metadata": {
    "tags": []
   },
   "source": [
    "## NumPy Indexing and Selection"
   ]
  },
  {
   "cell_type": "markdown",
   "id": "dfd7285f-e632-4dd9-96b5-892a71aee45c",
   "metadata": {},
   "source": [
    "* In this Numpy Indexing and Selection We will see , How to select Elements or groups of elements from and Numpy array"
   ]
  },
  {
   "cell_type": "code",
   "execution_count": 1,
   "id": "5bf5c7b7-1b47-42b9-af5c-596c895697f1",
   "metadata": {},
   "outputs": [],
   "source": [
    "import numpy as np"
   ]
  },
  {
   "cell_type": "code",
   "execution_count": 2,
   "id": "fa2bdf48-f6c6-454b-8958-82118975ffde",
   "metadata": {},
   "outputs": [
    {
     "data": {
      "text/plain": [
       "array([ 0,  1,  2,  3,  4,  5,  6,  7,  8,  9, 10])"
      ]
     },
     "execution_count": 2,
     "metadata": {},
     "output_type": "execute_result"
    }
   ],
   "source": [
    "arr = np.arange(0,11) #creating the array of 10 numbers\n",
    "arr"
   ]
  },
  {
   "cell_type": "markdown",
   "id": "6843ce4a-b8db-4896-9bdc-dfd3cf360be3",
   "metadata": {},
   "source": [
    "#### Indexing object [Indexing]"
   ]
  },
  {
   "cell_type": "markdown",
   "id": "20fd9168-18f4-43a8-8cfc-8bc0310e28e1",
   "metadata": {},
   "source": [
    "* if we want Numerical variable 2 to be displayed we will use the index 1"
   ]
  },
  {
   "cell_type": "code",
   "execution_count": 3,
   "id": "25c326d3-394c-4249-9e73-e0ff6e803677",
   "metadata": {},
   "outputs": [
    {
     "data": {
      "text/plain": [
       "2"
      ]
     },
     "execution_count": 3,
     "metadata": {},
     "output_type": "execute_result"
    }
   ],
   "source": [
    "arr[2]"
   ]
  },
  {
   "cell_type": "markdown",
   "id": "6636b6dd-ad56-4775-8299-425ac6018fdb",
   "metadata": {},
   "source": [
    "#### Slicing --> object [start, Stop, StepFunctiom]"
   ]
  },
  {
   "cell_type": "code",
   "execution_count": 4,
   "id": "2ef2e6bb-5851-4ab7-ad28-ca46144f1ac0",
   "metadata": {},
   "outputs": [
    {
     "data": {
      "text/plain": [
       "array([0, 1, 2, 3, 4, 5])"
      ]
     },
     "execution_count": 4,
     "metadata": {},
     "output_type": "execute_result"
    }
   ],
   "source": [
    "# if we want from 1,5 numerical values from 1-6\n",
    "arr[0:6]"
   ]
  },
  {
   "cell_type": "code",
   "execution_count": 5,
   "id": "f8f5fefc-fcf0-4bbe-9487-4ae407f5fd3a",
   "metadata": {},
   "outputs": [
    {
     "data": {
      "text/plain": [
       "array([0, 1, 2, 3, 4, 5])"
      ]
     },
     "execution_count": 5,
     "metadata": {},
     "output_type": "execute_result"
    }
   ],
   "source": [
    "# IF we want from starting to end we can use this way\n",
    "\n",
    "arr[:6] # Seen many time in objective coding question"
   ]
  },
  {
   "cell_type": "code",
   "execution_count": 6,
   "id": "59e899c4-df93-497c-ae13-c74f49663681",
   "metadata": {},
   "outputs": [
    {
     "data": {
      "text/plain": [
       "array([ 5,  6,  7,  8,  9, 10])"
      ]
     },
     "execution_count": 6,
     "metadata": {},
     "output_type": "execute_result"
    }
   ],
   "source": [
    "# We will grab everthing above index 5\n",
    "# if we know starting the we want the array till end\n",
    "\n",
    "arr[5:]"
   ]
  },
  {
   "cell_type": "markdown",
   "id": "0982a278-ff1f-4adc-9c2f-8fe2399a9cc6",
   "metadata": {},
   "source": [
    "#### Indexing and Slicing works same from NumPy Arrays and Traditional Python List"
   ]
  },
  {
   "cell_type": "markdown",
   "id": "ecd31b25-d670-4ea5-8027-7a2e55f4d2a7",
   "metadata": {},
   "source": [
    "#### NumPy array differs from the traditional Python because of their ability to **BROADCAST**."
   ]
  },
  {
   "cell_type": "code",
   "execution_count": 7,
   "id": "601e1035-ad85-490c-8a4f-327b269a885c",
   "metadata": {},
   "outputs": [
    {
     "data": {
      "text/plain": [
       "array([100, 100, 100, 100, 100,   5,   6,   7,   8,   9,  10])"
      ]
     },
     "execution_count": 7,
     "metadata": {},
     "output_type": "execute_result"
    }
   ],
   "source": [
    "# Now what does the broadcast means : \n",
    "# Lets see the Example\n",
    "\n",
    "# arr[0:5] --> It will give us 0,1,2,3,4\n",
    "\n",
    "arr[0:5] = 100 # here we are broadcasting index no. 1,2,3,4,5 to 100 Let's View:\n",
    "arr"
   ]
  },
  {
   "cell_type": "markdown",
   "id": "59113358-a5c5-45c3-a315-260fdd3b9893",
   "metadata": {},
   "source": [
    "It has Broadcasted their first five index to 100 This is called as Broadcasting which cannot ne done in Python"
   ]
  },
  {
   "cell_type": "code",
   "execution_count": 8,
   "id": "7830d0f9-7975-4ff3-942f-c3f680af93e3",
   "metadata": {},
   "outputs": [
    {
     "ename": "TypeError",
     "evalue": "can only assign an iterable",
     "output_type": "error",
     "traceback": [
      "\u001b[1;31m---------------------------------------------------------------------------\u001b[0m",
      "\u001b[1;31mTypeError\u001b[0m                                 Traceback (most recent call last)",
      "Input \u001b[1;32mIn [8]\u001b[0m, in \u001b[0;36m<cell line: 3>\u001b[1;34m()\u001b[0m\n\u001b[0;32m      1\u001b[0m \u001b[38;5;66;03m# You cannot iterate to an List\u001b[39;00m\n\u001b[0;32m      2\u001b[0m lst \u001b[38;5;241m=\u001b[39m [\u001b[38;5;241m1\u001b[39m,\u001b[38;5;241m2\u001b[39m,\u001b[38;5;241m3\u001b[39m,\u001b[38;5;241m4\u001b[39m,\u001b[38;5;241m5\u001b[39m,\u001b[38;5;241m6\u001b[39m,\u001b[38;5;241m7\u001b[39m,\u001b[38;5;241m8\u001b[39m,\u001b[38;5;241m9\u001b[39m,\u001b[38;5;241m10\u001b[39m]\n\u001b[1;32m----> 3\u001b[0m lst[\u001b[38;5;241m0\u001b[39m:\u001b[38;5;241m6\u001b[39m] \u001b[38;5;241m=\u001b[39m \u001b[38;5;241m100\u001b[39m\n",
      "\u001b[1;31mTypeError\u001b[0m: can only assign an iterable"
     ]
    }
   ],
   "source": [
    "# You cannot iterate to an List\n",
    "lst = [1,2,3,4,5,6,7,8,9,10]\n",
    "lst[0:6] = 100"
   ]
  },
  {
   "cell_type": "markdown",
   "id": "ad4b8f9b-750a-41a1-807e-ba935b66ad6c",
   "metadata": {},
   "source": [
    "#### Very Imprortant Point:"
   ]
  },
  {
   "cell_type": "code",
   "execution_count": 9,
   "id": "59eb7be7-cc91-4267-a1f0-ca27dd97d75e",
   "metadata": {},
   "outputs": [
    {
     "data": {
      "text/plain": [
       "array([ 0,  1,  2,  3,  4,  5,  6,  7,  8,  9, 10])"
      ]
     },
     "execution_count": 9,
     "metadata": {},
     "output_type": "execute_result"
    }
   ],
   "source": [
    "# Lets make an array\n",
    "arr = np.arange(0,11)\n",
    "arr"
   ]
  },
  {
   "cell_type": "code",
   "execution_count": 10,
   "id": "2f40a5b7-c260-4219-851b-3aa4dfee93dc",
   "metadata": {},
   "outputs": [
    {
     "data": {
      "text/plain": [
       "array([0, 1, 2, 3, 4, 5])"
      ]
     },
     "execution_count": 10,
     "metadata": {},
     "output_type": "execute_result"
    }
   ],
   "source": [
    "# Lets duplicate the arr value to another object\n",
    "slice_of_arr = arr[0:6]\n",
    "slice_of_arr"
   ]
  },
  {
   "cell_type": "code",
   "execution_count": 11,
   "id": "dce0d42e-29ee-41c7-b815-0e033386ebb2",
   "metadata": {},
   "outputs": [
    {
     "data": {
      "text/plain": [
       "array([100, 100, 100, 100, 100, 100])"
      ]
     },
     "execution_count": 11,
     "metadata": {},
     "output_type": "execute_result"
    }
   ],
   "source": [
    "# Now watch this carefully\n",
    "slice_of_arr[:] = 100 # Broadcasting 100\n",
    "slice_of_arr"
   ]
  },
  {
   "cell_type": "code",
   "execution_count": 12,
   "id": "8300d247-068c-4830-bd7f-cedb6ca2039b",
   "metadata": {},
   "outputs": [
    {
     "data": {
      "text/plain": [
       "array([100, 100, 100, 100, 100, 100,   6,   7,   8,   9,  10])"
      ]
     },
     "execution_count": 12,
     "metadata": {},
     "output_type": "execute_result"
    }
   ],
   "source": [
    "# Here is where you have to pay attention\n",
    "# Now if we call the orginal arr\n",
    "arr"
   ]
  },
  {
   "cell_type": "markdown",
   "id": "ad2aafc1-8aec-469a-8b25-f9da75768432",
   "metadata": {},
   "source": [
    "* It has changed its value also but we have just changed it in slice_of_arr\n",
    "* So, you should also know how that change also occur in the Original Array meaning the data is nort copied\n",
    "* **The Reason why NumPy does it is to AVOID MEMORY WITH VERY LARGE ARRAYS means NumPy is not gonna set copied of Array**\n",
    "* If you actually want a copy and not to the reference Original array which you can do is specifically using the copy method "
   ]
  },
  {
   "cell_type": "code",
   "execution_count": 13,
   "id": "8ec08f28-571c-4d67-abfa-c61885f075f3",
   "metadata": {},
   "outputs": [
    {
     "data": {
      "text/plain": [
       "array([100, 100, 100, 100, 100, 100,   6,   7,   8,   9,  10])"
      ]
     },
     "execution_count": 13,
     "metadata": {},
     "output_type": "execute_result"
    }
   ],
   "source": [
    "# Lets see this  \n",
    "arr_copy = arr.copy()\n",
    "arr_copy"
   ]
  },
  {
   "cell_type": "code",
   "execution_count": 14,
   "id": "8db1d664-2047-476e-88cf-876ccc28fc46",
   "metadata": {},
   "outputs": [
    {
     "data": {
      "text/plain": [
       "array([88, 88, 88, 88, 88, 88, 88, 88, 88, 88, 88])"
      ]
     },
     "execution_count": 14,
     "metadata": {},
     "output_type": "execute_result"
    }
   ],
   "source": [
    "# Let's Broadcast 88\n",
    "\n",
    "arr_copy[:] = 88\n",
    "arr_copy"
   ]
  },
  {
   "cell_type": "code",
   "execution_count": 15,
   "id": "0078b812-a357-4e27-9a9a-783c904f3b90",
   "metadata": {},
   "outputs": [
    {
     "data": {
      "text/plain": [
       "array([100, 100, 100, 100, 100, 100,   6,   7,   8,   9,  10])"
      ]
     },
     "execution_count": 15,
     "metadata": {},
     "output_type": "execute_result"
    }
   ],
   "source": [
    "#Let's check the Original set of copy\n",
    "arr"
   ]
  },
  {
   "cell_type": "markdown",
   "id": "7d413ffa-2aad-4bda-b5ad-fd7488c2a6b1",
   "metadata": {},
   "source": [
    "* This Point has to remembered"
   ]
  },
  {
   "cell_type": "markdown",
   "id": "9f1cbd6e-9c92-4bfa-a2b5-0a73129900f3",
   "metadata": {},
   "source": [
    "## 2D Array"
   ]
  },
  {
   "cell_type": "code",
   "execution_count": 16,
   "id": "527c2baa-6530-4f91-b28a-aba8d42d2f66",
   "metadata": {},
   "outputs": [
    {
     "data": {
      "text/plain": [
       "array([[ 5, 10, 15],\n",
       "       [20, 25, 30],\n",
       "       [35, 40, 45]])"
      ]
     },
     "execution_count": 16,
     "metadata": {},
     "output_type": "execute_result"
    }
   ],
   "source": [
    "arr_2d = np.array([[5,10,15],[20,25,30],[35,40,45]])\n",
    "arr_2d"
   ]
  },
  {
   "cell_type": "markdown",
   "id": "83f3188d-7eb1-49c0-ae9a-ca73b4110757",
   "metadata": {},
   "source": [
    "#### There's is two genral format for grabbing elements from a 2-d array of the matrix \n",
    " \n",
    "* There is double bracket format and,\n",
    "* There is the single bracket format with the comma's. "
   ]
  },
  {
   "cell_type": "markdown",
   "id": "da6afb27-d72e-44d5-969b-8c6602750b0a",
   "metadata": {},
   "source": [
    "*  Let's see the double bracket format.\n",
    "* but should know both double bracket and single bracket\n",
    "\n",
    "* we have the array \n",
    "*       ([[ 5, 10, 15],  \n",
    "*        [20, 25, 30],   ===> This is the array\n",
    "*        [35, 40, 45]])\n",
    "\n",
    "- Now if we wish to only grab 5 from this aray \n",
    "- how to do it"
   ]
  },
  {
   "cell_type": "markdown",
   "id": "ebc4dcc2-a791-4657-930b-fedd53fcd17c",
   "metadata": {},
   "source": [
    "### Double Bracket Method:"
   ]
  },
  {
   "cell_type": "code",
   "execution_count": 17,
   "id": "932765e9-8646-4868-a796-978395f1eed2",
   "metadata": {},
   "outputs": [
    {
     "data": {
      "text/plain": [
       "array([[ 5, 10, 15],\n",
       "       [20, 25, 30],\n",
       "       [35, 40, 45]])"
      ]
     },
     "execution_count": 17,
     "metadata": {},
     "output_type": "execute_result"
    }
   ],
   "source": [
    "arr_2d"
   ]
  },
  {
   "cell_type": "code",
   "execution_count": 18,
   "id": "f3c634c6-18b5-449b-997c-5ca9b8c9a9e5",
   "metadata": {},
   "outputs": [
    {
     "data": {
      "text/plain": [
       "5"
      ]
     },
     "execution_count": 18,
     "metadata": {},
     "output_type": "execute_result"
    }
   ],
   "source": [
    "arr_2d[0][0]  # -> First braket for [Row No.] , [Col no.] "
   ]
  },
  {
   "cell_type": "code",
   "execution_count": 19,
   "id": "3bf9b351-49e1-4c13-b766-b644bc8a7d7a",
   "metadata": {},
   "outputs": [
    {
     "data": {
      "text/plain": [
       "15"
      ]
     },
     "execution_count": 19,
     "metadata": {},
     "output_type": "execute_result"
    }
   ],
   "source": [
    "# Now if we want to grab 15\n",
    "# so it's in the first row that means 0 and column three means 2\n",
    "\n",
    "arr_2d[0][2]"
   ]
  },
  {
   "cell_type": "code",
   "execution_count": 20,
   "id": "746af52f-ee73-4d70-8595-40e51e7a5617",
   "metadata": {},
   "outputs": [
    {
     "data": {
      "text/plain": [
       "45"
      ]
     },
     "execution_count": 20,
     "metadata": {},
     "output_type": "execute_result"
    }
   ],
   "source": [
    "#lets wish the grab 45\n",
    "# row 2 and col 2\n",
    "\n",
    "arr_2d[2][2] "
   ]
  },
  {
   "cell_type": "code",
   "execution_count": 21,
   "id": "758f7ae3-1567-4c50-b02a-ad2b6ef67a4e",
   "metadata": {},
   "outputs": [
    {
     "data": {
      "text/plain": [
       "array([ 5, 10, 15])"
      ]
     },
     "execution_count": 21,
     "metadata": {},
     "output_type": "execute_result"
    }
   ],
   "source": [
    "# Now if we wish to grab the whole row then:\n",
    "# We can only wrt the row number bracket and finish.\n",
    "arr_2d[0]"
   ]
  },
  {
   "cell_type": "markdown",
   "id": "15baf0c4-e700-48a2-91dd-426b8aff7119",
   "metadata": {},
   "source": [
    "### Single Bracket Method:"
   ]
  },
  {
   "cell_type": "code",
   "execution_count": 22,
   "id": "45889295-25c1-434b-818d-c9d25ee62e94",
   "metadata": {},
   "outputs": [
    {
     "data": {
      "text/plain": [
       "array([[ 5, 10, 15],\n",
       "       [20, 25, 30],\n",
       "       [35, 40, 45]])"
      ]
     },
     "execution_count": 22,
     "metadata": {},
     "output_type": "execute_result"
    }
   ],
   "source": [
    "arr_2d"
   ]
  },
  {
   "cell_type": "code",
   "execution_count": 23,
   "id": "d98ad562-7ffa-4958-8db3-530940273d17",
   "metadata": {},
   "outputs": [
    {
     "data": {
      "text/plain": [
       "40"
      ]
     },
     "execution_count": 23,
     "metadata": {},
     "output_type": "execute_result"
    }
   ],
   "source": [
    "# If we want to get 40 which is in row no. 3 means 2 and column 2 which means 1\n",
    "\n",
    "arr_2d[2,1]"
   ]
  },
  {
   "cell_type": "markdown",
   "id": "010bccd8-ea07-49f7-8614-34aafa5dbdb1",
   "metadata": {},
   "source": [
    "* This is the Single Bracket Method"
   ]
  },
  {
   "cell_type": "markdown",
   "id": "63ea5ceb-f84e-455d-856c-08634965ed38",
   "metadata": {},
   "source": [
    "* I would recommened you to use single Bracket of a common notation because it is less prone to errors."
   ]
  },
  {
   "cell_type": "markdown",
   "id": "ec7c27de-747a-4d06-bf90-21f59f4de524",
   "metadata": {},
   "source": [
    "### Matrices from Matrices\n",
    "* Now we want certain Matrices from the matrices So, How would you do that.\n",
    "\n",
    "\n",
    "* array([[ 5, 10, 15],\n",
    "*         [20, 25, 30],  ---> This is Our Matric\n",
    "*         [35, 40, 45]])\n",
    "\n",
    "* Now we want to grab the Right most corner of the matrix\n",
    "\n",
    "\n",
    "* which means 10,15             \n",
    "*              25,30"
   ]
  },
  {
   "cell_type": "code",
   "execution_count": 24,
   "id": "2992f900-12b3-47eb-a30a-c2749fc61238",
   "metadata": {},
   "outputs": [
    {
     "data": {
      "text/plain": [
       "array([[ 5, 10, 15],\n",
       "       [20, 25, 30],\n",
       "       [35, 40, 45]])"
      ]
     },
     "execution_count": 24,
     "metadata": {},
     "output_type": "execute_result"
    }
   ],
   "source": [
    "arr_2d # This is our matrix"
   ]
  },
  {
   "cell_type": "code",
   "execution_count": 25,
   "id": "f38063a0-917a-414a-a7aa-53efa6de8ad6",
   "metadata": {},
   "outputs": [
    {
     "data": {
      "text/plain": [
       "array([[10, 15],\n",
       "       [25, 30]])"
      ]
     },
     "execution_count": 25,
     "metadata": {},
     "output_type": "execute_result"
    }
   ],
   "source": [
    "# Watch carefully\n",
    "\n",
    "arr_2d[:2,1:]   # -->:2 means till row no. 2 take up all the element\n",
    "                # --> 1: means from column 1 grab all the element"
   ]
  },
  {
   "cell_type": "markdown",
   "id": "5caf5b89-878e-4333-8ee6-6942b2f4315f",
   "metadata": {},
   "source": [
    "### Interview question on Numpy\n",
    "\n",
    "#### 1) Take out all the numerical values from the array which are grater than 5 and give all the values in an array"
   ]
  },
  {
   "cell_type": "code",
   "execution_count": 26,
   "id": "7e8be78e-b086-4591-86e6-249576ed256e",
   "metadata": {},
   "outputs": [
    {
     "data": {
      "text/plain": [
       "array([ 1,  2,  3,  4,  5,  6,  7,  8,  9, 10])"
      ]
     },
     "execution_count": 26,
     "metadata": {},
     "output_type": "execute_result"
    }
   ],
   "source": [
    "arr = np.arange(1,11)\n",
    "arr"
   ]
  },
  {
   "cell_type": "code",
   "execution_count": 27,
   "id": "86541b9b-288d-4f6f-970f-887e109ea719",
   "metadata": {},
   "outputs": [
    {
     "data": {
      "text/plain": [
       "array([False, False, False, False, False,  True,  True,  True,  True,\n",
       "        True])"
      ]
     },
     "execution_count": 27,
     "metadata": {},
     "output_type": "execute_result"
    }
   ],
   "source": [
    "arr > 5 # But it gives values in the bool dtype how to convert it\n",
    "        # here all the participant stuks\n",
    "    # Let's see this"
   ]
  },
  {
   "cell_type": "code",
   "execution_count": 28,
   "id": "bcb3d3d7-5da1-4a65-ab8c-9c12170b2e80",
   "metadata": {},
   "outputs": [
    {
     "data": {
      "text/plain": [
       "array([False, False, False, False, False,  True,  True,  True,  True,\n",
       "        True])"
      ]
     },
     "execution_count": 28,
     "metadata": {},
     "output_type": "execute_result"
    }
   ],
   "source": [
    "bool_arr = arr > 5 # Keeping all the values in the object \n",
    "bool_arr"
   ]
  },
  {
   "cell_type": "code",
   "execution_count": 29,
   "id": "3b739ed2-a226-437e-9211-7e9c5bf8d95b",
   "metadata": {},
   "outputs": [
    {
     "data": {
      "text/plain": [
       "array([ 6,  7,  8,  9, 10])"
      ]
     },
     "execution_count": 29,
     "metadata": {},
     "output_type": "execute_result"
    }
   ],
   "source": [
    "arr[bool_arr] # This Gives all the true values of the arr"
   ]
  },
  {
   "cell_type": "code",
   "execution_count": 30,
   "id": "ea972764-cfcc-42f9-95b3-ca3ce695686b",
   "metadata": {},
   "outputs": [
    {
     "data": {
      "text/plain": [
       "array([ 6,  7,  8,  9, 10])"
      ]
     },
     "execution_count": 30,
     "metadata": {},
     "output_type": "execute_result"
    }
   ],
   "source": [
    "arr[arr>5] # One more way"
   ]
  },
  {
   "cell_type": "markdown",
   "id": "49e7de37-df23-4375-8628-355fe16fb74f",
   "metadata": {},
   "source": [
    "### Let's see the big Matrix:"
   ]
  },
  {
   "cell_type": "code",
   "execution_count": 31,
   "id": "76c94990-6bca-42db-8a4a-381d33c00389",
   "metadata": {},
   "outputs": [
    {
     "data": {
      "text/plain": [
       "array([ 0,  1,  2,  3,  4,  5,  6,  7,  8,  9, 10, 11, 12, 13, 14, 15, 16,\n",
       "       17, 18, 19, 20, 21, 22, 23, 24, 25, 26, 27, 28, 29, 30, 31, 32, 33,\n",
       "       34, 35, 36, 37, 38, 39, 40, 41, 42, 43, 44, 45, 46, 47, 48, 49])"
      ]
     },
     "execution_count": 31,
     "metadata": {},
     "output_type": "execute_result"
    }
   ],
   "source": [
    "arr = np.arange(50)\n",
    "arr"
   ]
  },
  {
   "cell_type": "code",
   "execution_count": 32,
   "id": "5fe574a9-6943-4c0c-96c7-ff5a47fdf383",
   "metadata": {},
   "outputs": [
    {
     "data": {
      "text/plain": [
       "array([[ 0,  1,  2,  3,  4,  5,  6,  7,  8,  9],\n",
       "       [10, 11, 12, 13, 14, 15, 16, 17, 18, 19],\n",
       "       [20, 21, 22, 23, 24, 25, 26, 27, 28, 29],\n",
       "       [30, 31, 32, 33, 34, 35, 36, 37, 38, 39],\n",
       "       [40, 41, 42, 43, 44, 45, 46, 47, 48, 49]])"
      ]
     },
     "execution_count": 32,
     "metadata": {},
     "output_type": "execute_result"
    }
   ],
   "source": [
    "arr_2d = arr.reshape(5,10)\n",
    "arr_2d"
   ]
  },
  {
   "cell_type": "code",
   "execution_count": 33,
   "id": "6ce07f0c-6007-41cd-8da9-5d370ff65e5e",
   "metadata": {},
   "outputs": [
    {
     "data": {
      "text/plain": [
       "array([[ 0,  1,  2,  3,  4,  5,  6,  7,  8,  9],\n",
       "       [10, 11, 12, 13, 14, 15, 16, 17, 18, 19],\n",
       "       [20, 21, 22, 23, 24, 25, 26, 27, 28, 29],\n",
       "       [30, 31, 32, 33, 34, 35, 36, 37, 38, 39],\n",
       "       [40, 41, 42, 43, 44, 45, 46, 47, 48, 49]])"
      ]
     },
     "execution_count": 33,
     "metadata": {},
     "output_type": "execute_result"
    }
   ],
   "source": [
    "# One More way to make this with less code:\n",
    "\n",
    "arr_2d = np.arange(50).reshape(5,10)\n",
    "arr_2d # This is the 5X10 array"
   ]
  },
  {
   "cell_type": "markdown",
   "id": "a76b4629-af0e-430d-b484-dc42cf6abb8b",
   "metadata": {},
   "source": [
    "#### Now you can practice using the array for indexing and slicing\n"
   ]
  },
  {
   "cell_type": "markdown",
   "id": "d7b95a11-1b0f-4d00-9004-e0fd506d24ad",
   "metadata": {},
   "source": [
    "* Lets grab 13,14,23,24"
   ]
  },
  {
   "cell_type": "code",
   "execution_count": 34,
   "id": "da083f82-ca72-47c3-b9c4-2ead7becee55",
   "metadata": {},
   "outputs": [
    {
     "data": {
      "text/plain": [
       "array([[13, 14],\n",
       "       [23, 24]])"
      ]
     },
     "execution_count": 34,
     "metadata": {},
     "output_type": "execute_result"
    }
   ],
   "source": [
    "arr_2d[1:3,3:5]"
   ]
  },
  {
   "cell_type": "code",
   "execution_count": null,
   "id": "d172d4a4-e43d-4fe7-98ea-fe47de9961eb",
   "metadata": {},
   "outputs": [],
   "source": []
  },
  {
   "cell_type": "markdown",
   "id": "7fc38250-b1ec-4443-8628-1e4a83951e5e",
   "metadata": {},
   "source": [
    "#### Keep Learning Keep Growing \n",
    "#### Raj Kulhade..."
   ]
  }
 ],
 "metadata": {
  "kernelspec": {
   "display_name": "Python 3 (ipykernel)",
   "language": "python",
   "name": "python3"
  },
  "language_info": {
   "codemirror_mode": {
    "name": "ipython",
    "version": 3
   },
   "file_extension": ".py",
   "mimetype": "text/x-python",
   "name": "python",
   "nbconvert_exporter": "python",
   "pygments_lexer": "ipython3",
   "version": "3.9.12"
  }
 },
 "nbformat": 4,
 "nbformat_minor": 5
}
